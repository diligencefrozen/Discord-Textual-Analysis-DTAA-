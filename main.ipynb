data['Cleaned_Content'] = data['Content'].str.replace(r'[^a-zA-Z\s]', '', regex=True).str.lower()

data[['Content', 'Cleaned_Content']].head()
